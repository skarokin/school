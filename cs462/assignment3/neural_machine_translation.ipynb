{
 "cells": [
  {
   "cell_type": "markdown",
   "metadata": {
    "id": "UnQDRvXZFPJr"
   },
   "source": [
    "Make sure you fill your name and NetID below:"
   ]
  },
  {
   "cell_type": "code",
   "execution_count": null,
   "metadata": {
    "id": "_0dj1tSpFPJt"
   },
   "outputs": [],
   "source": [
    "NAME = \"Sean Kim\"\n",
    "NET_ID = \"skk135\""
   ]
  },
  {
   "cell_type": "markdown",
   "metadata": {
    "id": "o2SN6uNmFPJu"
   },
   "source": [
    "---"
   ]
  },
  {
   "cell_type": "markdown",
   "metadata": {
    "id": "NFvJRejWFPJv"
   },
   "source": [
    "---\n",
    "# Assignment 3: RNN, LSTM, Attention, and Transformers\n",
    "\n",
    "In this assignment, you will implement neural machine translation (NMT) models using:\n",
    "\n",
    "1. RNNs\n",
    "2. LSTMs and LSTMs with attention\n",
    "3. Transformers.\n",
    "\n",
    "As in the previous assignments, you will see code blocks that look like this:\n",
    "```python\n",
    "###############################################################################\n",
    "# TODO: Create a variable x with value 3.7\n",
    "###############################################################################\n",
    "pass\n",
    "# END OF YOUR CODE\n",
    "```\n",
    "\n",
    "You should replace the `pass` statement with your own code and leave the blocks intact, like this:\n",
    "```python\n",
    "###############################################################################\n",
    "# TODO: Create a variable x with value 3.7\n",
    "###############################################################################\n",
    "x = 3.7\n",
    "# END OF YOUR CODE\n",
    "```\n",
    "\n",
    "Also, please remember:\n",
    "- Do not write or modify any code outside of code blocks\n",
    "- Do not add or delete any cells from the notebook. You may add new cells to perform scatch work, but delete them before submitting.\n",
    "- Run all cells before submitting. You will only get credit for code that has been run.\n"
   ]
  },
  {
   "cell_type": "markdown",
   "metadata": {
    "id": "xPt-g1VfFPJx"
   },
   "source": [
    "## Setup\n",
    "\n",
    "First let's import some libraries that will be useful in this assignment.\n"
   ]
  },
  {
   "cell_type": "code",
   "execution_count": null,
   "metadata": {
    "id": "uDCQUVq2FPJy"
   },
   "outputs": [],
   "source": [
    "import zipfile\n",
    "import matplotlib.pyplot as plt\n",
    "import random\n",
    "import collections\n",
    "import numpy as np\n",
    "import zipfile\n",
    "import torch\n",
    "import os\n",
    "import torch.nn as nn\n",
    "import torch.nn.functional as F\n",
    "\n",
    "def seed(seed):\n",
    "  torch.manual_seed(seed)\n",
    "  np.random.seed(seed)"
   ]
  },
  {
   "cell_type": "markdown",
   "metadata": {
    "id": "Lzhxm48QFPJz"
   },
   "source": [
    "Make sure you are using the GPU."
   ]
  },
  {
   "cell_type": "code",
   "execution_count": null,
   "metadata": {
    "id": "iDjkpA51FPJ0"
   },
   "outputs": [],
   "source": [
    "if torch.cuda.is_available():\n",
    "  print('Good to go!')\n",
    "  device = torch.device('cuda:0')\n",
    "else:\n",
    "  print('Using CPU.')\n",
    "  device = torch.device('cpu')"
   ]
  },
  {
   "cell_type": "markdown",
   "metadata": {
    "id": "-fqOr31rFPJ1"
   },
   "source": [
    "For this assignment, we will use an English-to-French dataset. As shown below, the dataset contains multiple lines each of which has an English sentence and its French translation separated by a tab. In this problem, since English is translated to French, English is the source language and French is the target language. Note that each text sequence is of variable lengnth and can be just one sentence or a paragraph of multiple sentences."
   ]
  },
  {
   "cell_type": "code",
   "execution_count": null,
   "metadata": {
    "id": "fAVGoNqSFPJ2"
   },
   "outputs": [],
   "source": [
    "def download_if_not_exist(file_name):\n",
    "  \n",
    "  if not os.path.exists(file_name):\n",
    "    import urllib.request\n",
    "    DATA_URL = 'https://download.pytorch.org/tutorial/data.zip'\n",
    "\n",
    "    file_name, _ = urllib.request.urlretrieve(DATA_URL, './data.zip')\n",
    "    \n",
    "  return file_name\n",
    "\n",
    "def read_raw(file_name):\n",
    "  file_name = download_if_not_exist(file_name)\n",
    "  \n",
    "  with zipfile.ZipFile(file_name, 'r') as fzip:\n",
    "    raw_text = fzip.read(file_name.split('.')[-2][1:] + '/eng-fra.txt').decode('utf-8')\n",
    "  return raw_text"
   ]
  },
  {
   "cell_type": "code",
   "execution_count": null,
   "metadata": {
    "id": "hQWj8nELFPJ2"
   },
   "outputs": [],
   "source": [
    "raw_text = read_raw('./data.zip')\n",
    "print(raw_text[:200])"
   ]
  },
  {
   "cell_type": "markdown",
   "metadata": {
    "id": "51PBrJ_0FPJ3"
   },
   "source": [
    "Next we'll do some preprocessing on this raw text. We need to replace special symbols (non-breaking spaces) with spaces, convert all characters to lower case, and insert a space between words and punctuation marks."
   ]
  },
  {
   "cell_type": "code",
   "execution_count": null,
   "metadata": {
    "id": "F1WJAUQlFPJ4"
   },
   "outputs": [],
   "source": [
    "def preprocess_raw(text):\n",
    "  text = text.replace('\\u202f', ' ').replace('\\xa0', ' ')\n",
    "  out = ''\n",
    "  for i, char in enumerate(text.lower()):\n",
    "    if char in (',', '!', '.') and i > 0 and text[i-1] != ' ':\n",
    "      out += ' '\n",
    "    out += char\n",
    "  return out"
   ]
  },
  {
   "cell_type": "markdown",
   "metadata": {
    "id": "6AvchKQ2FPJ4"
   },
   "source": [
    "We further split the source-target pairs into a source list and a target list. We use word-level tokenization here. "
   ]
  },
  {
   "cell_type": "code",
   "execution_count": null,
   "metadata": {
    "id": "LATaw74aFPJ4"
   },
   "outputs": [],
   "source": [
    "def split_source_target(text, max_len):\n",
    "  source, target = [], []\n",
    "  for i, line in enumerate(text.split('\\n')):\n",
    "    if i > 5000: # we only use 5000 pairs of translation\n",
    "      break\n",
    "    parts = line.split('\\t')\n",
    "    if len(parts) == 2:\n",
    "      src_tokens = parts[0].split(' ')\n",
    "      tgt_tokens = parts[1].split(' ')\n",
    "      if (len(src_tokens) <= max_len) and (len(tgt_tokens) <= max_len):\n",
    "        source.append(src_tokens)\n",
    "        target.append(tgt_tokens)\n",
    "  return source, target"
   ]
  },
  {
   "cell_type": "code",
   "execution_count": null,
   "metadata": {
    "id": "ksrZ0MC_FPJ6"
   },
   "outputs": [],
   "source": [
    "def prepare_data(raw_text, max_len=10000):\n",
    "  text = preprocess_raw(raw_text)\n",
    "  source, target = split_source_target(text, max_len)\n",
    "  return source, target\n",
    "\n",
    "source, target = prepare_data(raw_text)"
   ]
  },
  {
   "cell_type": "markdown",
   "metadata": {
    "id": "8131HkNWFPJ6"
   },
   "source": [
    "Using the whole dataset takes too much memory, and it is hard to train with a large vocabulary. Thus, we will filter out some words by looking at the statistical properties of the dataset."
   ]
  },
  {
   "cell_type": "code",
   "execution_count": null,
   "metadata": {
    "id": "nMM2lENjFPJ7"
   },
   "outputs": [],
   "source": [
    "def len_dis(text):\n",
    "  lens = [len(line) for line in text]\n",
    "  len_counter = collections.Counter(lens)\n",
    "\n",
    "  lens = np.array(list(len_counter.keys()))\n",
    "  sort_idx = np.argsort(lens)\n",
    "  lens_sort = lens[sort_idx]\n",
    "  len_counts = np.array(list(len_counter.values()))\n",
    "  len_counts_sort = len_counts[sort_idx]\n",
    "  p = np.cumsum(len_counts_sort) / len_counts_sort.sum()\n",
    "  return p, lens_sort\n",
    "  \n",
    "src_p, src_lens_sort = len_dis(source)\n",
    "tgt_p, tgt_lens_sort = len_dis(target)\n",
    "plt.plot(src_lens_sort, src_p, 'r-', label='eng')\n",
    "plt.plot(tgt_lens_sort, tgt_p, 'g-', label='fra')\n",
    "plt.title('Cumulative Distribution of Sentence Length')\n",
    "plt.legend()\n",
    "plt.show()"
   ]
  },
  {
   "cell_type": "markdown",
   "metadata": {
    "id": "HjqvL3LsFPJ7"
   },
   "source": [
    "From the above plots, we can see that more than 90% of the sentences have a length of less than 8. Thus, we can filter out sentences of length greater than 8. We also filter out words that occur less than 5 times in the corpus."
   ]
  },
  {
   "cell_type": "code",
   "execution_count": null,
   "metadata": {
    "id": "1Q_UrZKyFPJ7"
   },
   "outputs": [],
   "source": [
    "# hyper-param\n",
    "MAX_LEN = 8\n",
    "MIN_FREQ = 5"
   ]
  },
  {
   "cell_type": "markdown",
   "metadata": {
    "id": "JSK-nzTiFPJ7"
   },
   "source": [
    "### Build Vocabulary\n",
    "\n",
    "Each word needs a unique index, and the words that have been filtered out need a special token to represent them. The following class Vocab is used to build the vocabulary. Some basic helper functions or dictionaries are also provided:\n",
    "- Dictionary word2index: Convert word string into index: \n",
    "- Dictionary index2word: Convert index into word string\n",
    "- helper function _build_vocab(): Build dictionaries for converting from words to indices and vice versa\n",
    "- Word Counter, num_word: Record the total number of unique tokens in the vocabulary \n",
    "    \n",
    "There are 4 special tokens added in the vocabulary:\n",
    "- 'pad': padding token. Sentences shorter than MAX_LEN is padded by this symbol to make the length to MAX_LEN\n",
    "- 'bos': beginning of sentence. This indicates the beginning of a sentence\n",
    "- 'eos': end of sentence. This indicates the end of a sentence\n",
    "- 'unk': unknown word. This represents words that have been filtered out (words that are not in the vocabulary)"
   ]
  },
  {
   "cell_type": "code",
   "execution_count": null,
   "metadata": {
    "id": "OWUntlMGFPJ7"
   },
   "outputs": [],
   "source": [
    "class Vocab():\n",
    "  def __init__(self, name, tokens, min_freq):\n",
    "    self.name = name\n",
    "    self.index2word = {\n",
    "      0: 'pad',\n",
    "      1: 'bos',\n",
    "      2: 'eos',\n",
    "      3: 'unk'\n",
    "    }\n",
    "    self.word2index = {v: k for k, v in self.index2word.items()}\n",
    "    self.num_word = 4\n",
    "    token_freq = collections.Counter(tokens)\n",
    "    tokens = [token for token in tokens if token_freq[token] >= MIN_FREQ]\n",
    "    self._build_vocab(tokens)\n",
    "    \n",
    "  def _build_vocab(self, tokens):\n",
    "    for token in tokens:\n",
    "      if token not in self.word2index:\n",
    "        self.word2index[token] = self.num_word\n",
    "        self.index2word[self.num_word] = token\n",
    "        self.num_word += 1\n",
    "        \n",
    "  def __getitem__(self, tokens):\n",
    "    if not isinstance(tokens, (list, tuple)):\n",
    "      return self.word2index.get(tokens, self.word2index['unk'])\n",
    "    else:\n",
    "      return [self.__getitem__(token) for token in tokens]"
   ]
  },
  {
   "cell_type": "markdown",
   "metadata": {
    "id": "StRHfRCWFPJ8"
   },
   "source": [
    "### Build Dataset\n",
    "\n",
    "The dataset pipeline involves the following steps:\n",
    "- For target language, every sentence will be 'sandwiched' with the 'bos' token and the 'eos' token.\n",
    "- Every sentence that has a length less than MAX_LEN will be padded to the MAX_LEN with the *padding_token*.\n",
    "- The dataset should return the converted tensor and the corresponding valid length before padding.\n",
    "- We use the Pytorch *DataLoader* API to build the dataset generator.\n",
    "\n",
    "For the purposes of this assignment, we will train and evaluate on only the training data. This isn't ideal because we do not know if we are  overfitting to the training data, but it is fine for instructional purposes. In practice (eg. for your projects), you should make sure to split your data into training/validation/test datasets."
   ]
  },
  {
   "cell_type": "code",
   "execution_count": null,
   "metadata": {
    "id": "dbLD4AS5FPJ8"
   },
   "outputs": [],
   "source": [
    "def build_vocab(name, tokens, min_freq):\n",
    "  tokens = [token for line in tokens for token in line]\n",
    "  return Vocab(name, tokens, min_freq)\n",
    "\n",
    "def build_vocabs(lang_src, lang_tgt, src_text, tgt_text):\n",
    "  vocab_src = build_vocab(lang_src, src_text, MIN_FREQ)\n",
    "  vocab_tgt = build_vocab(lang_tgt, tgt_text, MIN_FREQ)\n",
    "  return vocab_src, vocab_tgt\n",
    "\n",
    "def pad(line, padding_token):\n",
    "  return line + [padding_token] * (MAX_LEN + 2 - len(line))\n",
    "\n",
    "def build_tensor(text, lang, is_source):\n",
    "  lines = [lang[line] for line in text]\n",
    "  if not is_source:\n",
    "    lines = [[lang['bos']] + line + [lang['eos']] for line in lines]\n",
    "  array = torch.tensor([pad(line, lang['pad']) for line in lines])\n",
    "  valid_len = (array != lang['pad']).sum(1)\n",
    "  return array, valid_len\n",
    "\n",
    "def load_data_nmt(batch_size=2):\n",
    "  lang_eng, lang_fra = build_vocabs('eng', 'fra', source, target)\n",
    "  src_array, src_valid_len = build_tensor(source, lang_eng, True)\n",
    "  tgt_array, tgt_valid_len = build_tensor(target, lang_fra, False)\n",
    "  train_data = torch.utils.data.TensorDataset(\n",
    "    src_array, src_valid_len, tgt_array, tgt_valid_len)\n",
    "  print(train_data[0])\n",
    "  train_iter = torch.utils.data.DataLoader(train_data, batch_size, shuffle=True)\n",
    "  return lang_eng, lang_fra, train_iter\n",
    "\n",
    "\n",
    "source, target = prepare_data(raw_text, max_len=MAX_LEN)\n",
    "vocab_eng, vocab_fra, train_iter = load_data_nmt(batch_size=2)\n",
    "print('Vocabulary size of source language: {}'.format(vocab_eng.num_word))\n",
    "print('Vocabulary size of target language: {}'.format(vocab_fra.num_word))\n",
    "print('Total number of sentence pairs: {}'.format(len(source)))"
   ]
  },
  {
   "cell_type": "markdown",
   "metadata": {
    "id": "WwqzJmZhFPJ9"
   },
   "source": [
    "## Sequence to Sequence with RNN (baseline)\n",
    "\n",
    "In this section, we provide the implementation of the seq2seq RNN baseline model. You do not need to implement any code in this section, but you should read and understand what the code is doing because you will need to implement something similar in subsequent sections. The following figure highlights the architecture of the seq2seq model. An encoder RNN encodes the input sequence into its hidden state, and passes the last hidden state to the decoder RNN. The decoder generates the target sequence.\n",
    "\n",
    "Implementation Details:\n",
    "\n",
    "- Embedding: We have represented each word with an integer or one-hot vector. We need an embedding layer to map an input word to its embedding vector.\n",
    "- Encoder: A vanilla RNN is used to encode a source sequence. The final hidden state is returned as output and passed to the decoder RNN.\n",
    "- Decoder: Another vanilla RNN is implemented to generate the target sequence. The hidden state is initialized with the last hidden state from the encoder.\n",
    "- Encoder-Decoder: The class NMTRNN is built by combining the encoder and the decoder, and yields the loss and predictions.\n",
    "- Loss: We have padded all sentences so that they have the same MAX_LEN. Thus, when we compute the loss, the loss from those padding_tokens should be masked out."
   ]
  },
  {
   "cell_type": "markdown",
   "metadata": {
    "id": "U3vWXY06FPJ9"
   },
   "source": [
    "<div>\n",
    "<img src=\"https://raw.githubusercontent.com/dsgiitr/d2l-pytorch/24e89824c154c2afc419c5dadec9622e490b99bb/img/seq2seq.svg\" width=\"600\"/>\n",
    "</div>\n",
    "Image source: https://github.com/dsgiitr/d2l-pytorch/blob/master/img/seq2seq.svg"
   ]
  },
  {
   "cell_type": "code",
   "execution_count": null,
   "metadata": {
    "id": "cSVu0r5OFPJ9"
   },
   "outputs": [],
   "source": [
    "class Encoder(nn.Module):\n",
    "  def __init__(self, vocab_size, embedding_dim, hidden_size):\n",
    "    super(Encoder, self).__init__()\n",
    "    \"\"\"\n",
    "    inputs:\n",
    "      vocab_size: int, the number of words in the vocabulary\n",
    "      embedding_dim: int, dimension of the word embedding\n",
    "      hidden_size: int, dimension of the hidden state of vanilla RNN\n",
    "    \"\"\"\n",
    "    self.embedding = nn.Embedding(vocab_size, embedding_dim) # embedding layer\n",
    "    self.enc = nn.RNN(embedding_dim, hidden_size, batch_first=True)\n",
    "    self.hidden_size = hidden_size\n",
    "    \n",
    "  def forward(self, sources, valid_len):\n",
    "    \"\"\"\n",
    "    Inputs:\n",
    "      source: tensor of size (N, T), where N is the batch size, T is the length of the sequence(s)\n",
    "      valid_len: tensor of size (N,), indicating the valid length of sequence(s) (the length before padding)\n",
    "    \"\"\"\n",
    "    word_embedded = self.embedding(sources)\n",
    "    N = word_embedded.shape[0]\n",
    "    \n",
    "    h = sources.new_zeros(1, N, self.hidden_size).float() # initialize hidden state with zeros\n",
    "    \n",
    "    o, h = self.enc(word_embedded, h)\n",
    "    \n",
    "    return o[np.arange(N), valid_len] # return the hidden state of the valid last time step\n",
    "\n",
    "class Decoder(nn.Module):\n",
    "  def __init__(self, vocab_size, embedding_dim, hidden_size):\n",
    "    super(Decoder, self).__init__()\n",
    "    \"\"\"\n",
    "    inputs:\n",
    "      vocab_size: int, the number of words in the vocabulary\n",
    "      embedding_dim: int, dimension of the word embedding\n",
    "      hidden_size: int, dimension of the hidden state of vanilla RNN\n",
    "    \"\"\"\n",
    "    self.embedding = nn.Embedding(vocab_size, embedding_dim)\n",
    "    self.enc = nn.RNN(embedding_dim, hidden_size, batch_first=True)\n",
    "    self.output_emb = nn.Linear(hidden_size, vocab_size)\n",
    "    self.hidden_size = hidden_size\n",
    "    \n",
    "  def forward(self, h, target):\n",
    "    word_embedded = self.embedding(target)\n",
    "    N, T = word_embedded.shape[:2]\n",
    "    \n",
    "    o, h = self.enc(word_embedded, h.view(1,N,self.hidden_size))\n",
    "    pred = self.output_emb(o)\n",
    "    return pred, h\n",
    "\n",
    "class NMTRNN(nn.Module):\n",
    "  def __init__(self, src_vocab_size, tgt_vocab_size, embedding_dim, hidden_size):\n",
    "    super(NMTRNN, self).__init__()\n",
    "    self.enc = Encoder(src_vocab_size, embedding_dim, hidden_size)\n",
    "    self.dec = Decoder(tgt_vocab_size, embedding_dim, hidden_size)\n",
    "    \n",
    "  def forward(self, src, src_len, tgt, tgt_len):\n",
    "    h = self.enc(src, src_len)\n",
    "    T = tgt.shape[1]\n",
    "    \n",
    "    pred, _ = self.dec(h, tgt)\n",
    "    loss = 0\n",
    "    for t in range(T-1):\n",
    "      # target sequence should shift by one time-step, because we are predicting the next word\n",
    "      # Note that in principle the `ignore_index` parameter can be set to 0, which is for the `pad` token. \n",
    "      # Due to version change in PyTorch, this may have a bug. Therefore we do not use it here. \n",
    "      loss = loss + F.nll_loss(F.log_softmax(pred[:, t]), tgt[:, t+1]) #, ignore_index=0)\n",
    "\n",
    "    return loss, pred.argmax(dim=-1)\n",
    "\n",
    "  def predict(self, src, src_len, tgt, tgt_len):\n",
    "      \"\"\"\n",
    "      When predicting a sequence given the 'bos' token, the input for the next step is the predicted\n",
    "      token from the previous time step.\n",
    "      \"\"\"\n",
    "      h = self.enc(src, src_len)\n",
    "\n",
    "      inputs = tgt[:, :1]\n",
    "      preds = []\n",
    "      for t in range(MAX_LEN+1): # plus the 'eos' token\n",
    "        pred, h = self.dec(h, inputs)\n",
    "        preds.append(pred)\n",
    "        inputs = pred.argmax(dim=-1)\n",
    "        \n",
    "      pred = torch.cat(preds, dim=1).argmax(dim=-1)\n",
    "      return pred\n",
    "        "
   ]
  },
  {
   "cell_type": "code",
   "execution_count": null,
   "metadata": {
    "id": "tKR2Lpb8FPJ-"
   },
   "outputs": [],
   "source": [
    "def train_rnn(net, train_iter, lr, epochs, device):\n",
    "  # training\n",
    "  net = net.to(device)\n",
    "\n",
    "  optimizer = torch.optim.Adam(net.parameters(), lr=lr)\n",
    "  loss_list = []\n",
    "  print_interval = len(train_iter)\n",
    "  total_iter = epochs * len(train_iter)\n",
    "  for e in range(epochs):\n",
    "    net.train()\n",
    "    for i, train_data in enumerate(train_iter):\n",
    "      train_data = [ds.to(device) for ds in train_data]\n",
    "\n",
    "      loss, pred = net(*train_data)\n",
    "\n",
    "      loss_list.append(loss.mean().detach())\n",
    "      optimizer.zero_grad()\n",
    "      loss.mean().backward()\n",
    "      optimizer.step()\n",
    "\n",
    "      step = i + e * len(train_iter)\n",
    "      if step % print_interval == 0:\n",
    "        print('iter {} / {}\\tLoss:\\t{:.6f}'.format(step, total_iter, loss.mean().detach()))\n",
    "        print('pred:\\t {}\\n'.format(pred[0].detach().cpu()))\n",
    "        print('tgt:\\t {}\\n'.format(train_data[2][0][1:].cpu()))\n",
    "  return loss_list\n",
    "\n",
    "seed(1)\n",
    "batch_size = 32\n",
    "lr = 1e-3\n",
    "epochs = 50\n",
    "\n",
    "embedding_dim = 250\n",
    "hidden_size = 128\n",
    "\n",
    "vocab_eng, vocab_fra, train_iter = load_data_nmt(batch_size)\n",
    "rnn_net = NMTRNN(vocab_eng.num_word, vocab_fra.num_word, embedding_dim, hidden_size)\n",
    "\n",
    "rnn_loss_list = train_rnn(rnn_net, train_iter, lr, epochs, device)"
   ]
  },
  {
   "cell_type": "markdown",
   "metadata": {
    "id": "Tv_d48GoFPJ-"
   },
   "source": [
    "### RNN Loss Curve\n",
    "\n",
    "Plot the loss curve over time."
   ]
  },
  {
   "cell_type": "code",
   "execution_count": null,
   "metadata": {
    "id": "gj1l0_J0FPJ-"
   },
   "outputs": [],
   "source": [
    "# save the loss curve figure in a file for the report\n",
    "if device != \"cpu\":\n",
    "    rnn_loss_list_cpu = [ele.cpu() for ele in rnn_loss_list]\n",
    "else:\n",
    "    rnn_loss_list_cpu = run_loss_list\n",
    "plt.plot(np.arange(len(rnn_loss_list_cpu)), rnn_loss_list_cpu)\n",
    "plt.title('Loss Curve of Baseline')\n"
   ]
  },
  {
   "cell_type": "markdown",
   "metadata": {
    "id": "NyIwLicjFPJ-"
   },
   "source": [
    "### Prediction Accuracy\n",
    "\n",
    "Print out 5 prediction samples, and calculate the prediction accuracy over the training dataset. You will see an accuracy of over 80%."
   ]
  },
  {
   "cell_type": "code",
   "execution_count": null,
   "metadata": {
    "id": "Rv40njI-FPJ_"
   },
   "outputs": [],
   "source": [
    "def comp_acc(pred, gt, valid_len):\n",
    "  N, T_gt = gt.shape[:2]\n",
    "  _, T_pr = pred.shape[:2]\n",
    "  assert T_gt == T_pr, 'Prediction and target should have the same length.'\n",
    "  len_mask = torch.arange(T_gt).expand(N, T_gt)\n",
    "  len_mask = len_mask < valid_len[:, None]\n",
    "  \n",
    "  pred_crr = (pred == gt).float() * len_mask.float() # filter out the 'bos' token\n",
    "  pred_acc = pred_crr.sum(dim=-1) / (valid_len - 1).float() # minus the 'bos' token\n",
    "  return pred_acc\n",
    "  \n",
    "def evaluate_rnn(net, train_iter, device):\n",
    "  acc_list = []\n",
    "  for i, train_data in enumerate(train_iter):\n",
    "    train_data = [ds.to(device) for ds in train_data]\n",
    "\n",
    "    pred = net.predict(*train_data)\n",
    "\n",
    "    pred_acc = comp_acc(pred.detach().cpu(), train_data[2].detach().cpu()[:, 1:], train_data[3].cpu())\n",
    "    acc_list.append(pred_acc)\n",
    "    if i < 5:# print 5 samples from 5 batches\n",
    "      pred = pred[0].detach().cpu()\n",
    "      pred_seq = []\n",
    "      for t in range(MAX_LEN+1):\n",
    "        pred_wd = vocab_fra.index2word[pred[t].item()] \n",
    "        if pred_wd != 'eos':\n",
    "          pred_seq.append(pred_wd)\n",
    "\n",
    "      print('pred:\\t {}\\n'.format(pred_seq))\n",
    "      print('tgt:\\t {}\\n'.format([vocab_fra.index2word[t.item()] for t in train_data[2][0][1:].cpu()]))\n",
    "\n",
    "  print('Prediction Acc.: {:.4f}'.format(torch.cat(acc_list).mean()))\n",
    "  \n",
    "seed(1)\n",
    "batch_size = 32\n",
    "\n",
    "vocab_eng, vocab_fra, train_iter = load_data_nmt(batch_size)\n",
    "\n",
    "evaluate_rnn(rnn_net, train_iter, device)"
   ]
  },
  {
   "cell_type": "markdown",
   "metadata": {
    "id": "ZigkvZsTFPJ_"
   },
   "source": [
    "## Sequence to Sequence with LSTM and Attention\n",
    "\n",
    "Now let's try to improve our model by using an LSTM and the attention mechanism.\n"
   ]
  },
  {
   "cell_type": "markdown",
   "metadata": {
    "id": "imBxyLCJFPKA"
   },
   "source": [
    "### LSTM\n",
    "\n",
    "LSTMs eliminate the gradient explosion/vanishing problem. Its state and gate update at each time step can be summarized as follows:\n",
    "\n",
    "$$\n",
    "\\begin{align*}\n",
    "&\\text{State Update} &&& C_t &= F_t \\odot C_{t-1} + I_t \\odot \\tilde{C}_t \\\\\n",
    "&\\text{Hidden States} &&& H_t &= O_t \\odot \\text{tanh}(C_t) \\\\\n",
    "&\\text{Proposal} &&& \\tilde{C}_t &= \\text{tanh}( X_tW_{xc} + H_{t-1}W_{hc} + b_c ) \\\\\n",
    "&\\text{Input Gate} &&& I_t &= \\sigma( X_tW_{xi} + H_{t-1}W_{hi} + b_i ) \\\\\n",
    "&\\text{Forget Gate} &&& F_t &= \\sigma( X_tW_{xf} + H_{t-1}W_{hf} + b_f ) \\\\\n",
    "&\\text{Output Gate} &&& O_t &= \\sigma( X_tW_{xo} + H_{t-1}W_{ho} + b_o ) \\\\\n",
    "\\end{align*}\n",
    "$$\n",
    "\n",
    "Implement the LSTM class below. In particular,\n",
    "-  Complete the initialization function *init_params()*. Weights should be initialized using `torch.randn` multiplied with a scale of 0.1. Biases should be initialized to 0.\n",
    "- Complete the function *lstm()* which performs the feed-forward pass of LSTM. **Do not** use `nn.LSTM` or `nn.LSTMCell` in your implementation."
   ]
  },
  {
   "cell_type": "code",
   "execution_count": null,
   "metadata": {
    "deletable": false,
    "id": "YG8YK1JCFPKA",
    "nbgrader": {
     "cell_type": "code",
     "checksum": "386a51799571153e76849c4b5ebb7f73",
     "grade": false,
     "grade_id": "cell-e43516618029ca06",
     "locked": false,
     "schema_version": 3,
     "solution": true,
     "task": false
    }
   },
   "outputs": [],
   "source": [
    "class LSTM(nn.Module):\n",
    "  def __init__(self, input_size, hidden_size, device):\n",
    "    super(LSTM, self).__init__()\n",
    "    self.device = device\n",
    "    self.params = nn.ParameterList(self.init_params(input_size, hidden_size))\n",
    "    \"\"\"\n",
    "    Inputs:\n",
    "      input_size: int, feature dimension of input sequence\n",
    "      hidden_size: int, feature dimension of hidden state\n",
    "      device: torch.device()\n",
    "    \"\"\"\n",
    "  \n",
    "  def init_params(self, input_size, hidden_size):\n",
    "    \"\"\"\n",
    "    Inputs:\n",
    "      input_size: int, feature dimension of input sequence\n",
    "      hidden_size: int, feature dimension of hidden state\n",
    "      \n",
    "    Outputs:\n",
    "      Weights for proposal: W_xc, W_hc, b_c\n",
    "      Weights for input gate: W_xi, W_hi, b_i\n",
    "      Weights for forget gate: W_xf, W_hf, b_f\n",
    "      Weights for output gate: W_xo, W_ho, b_o\n",
    "    \"\"\"\n",
    "    W_xc, W_hc, b_c = None, None, None\n",
    "    W_xi, W_hi, b_i = None, None, None\n",
    "    W_xf, W_hf, b_f = None, None, None\n",
    "    W_xo, W_ho, b_o = None, None, None\n",
    "    ##############################################################################\n",
    "    # TODO: Initialize the weights and biases. The result will be stored in \n",
    "    # `params` below. Weights should be initialized using `torch.randn` multiplied \n",
    "    # with the scale (0.1). Biases should be initialized to 0.\n",
    "    ##############################################################################\n",
    "    # Replace \"pass\" statement with your code\n",
    "    pass\n",
    "    # END OF YOUR CODE\n",
    "    \n",
    "    params = [W_xc, W_hc, b_c, W_xi, W_hi, b_i, W_xf, W_hf, b_f, W_xo, W_ho, b_o]\n",
    "    return params\n",
    "\n",
    "  \n",
    "  def lstm(self, X, state):\n",
    "    \"\"\"\n",
    "    Inputs:\n",
    "      X: tuple of tensors (src, src_len). src, size (N, D_in) or (N, T, D_in), where N is the batch size,\n",
    "        T is the length of the sequence(s). src_len, size of (N,), is the valid length for each sequence.\n",
    "        \n",
    "      state: tuple of tensors (h, c). h, size of (N, hidden_size) is the hidden state of LSTM. c, size of \n",
    "            (N, hidden_size), is the memory cell of the LSTM.\n",
    "      \n",
    "    Outputs:\n",
    "      o: tensor of size (N, T, hidden_size). Contains the output features (the hidden state H_t) for each t.\n",
    "      state: the same as input state. Contains the hidden state H_T and cell state C_T for the last timestep T.\n",
    "    \"\"\"\n",
    "    \n",
    "    src, src_len = X\n",
    "    h, c = state\n",
    "\n",
    "    # make sure always has a T dim\n",
    "    if len(src.shape) == 2:\n",
    "      src = src.unsqueeze(1)\n",
    "\n",
    "    N, T, D_in = src.shape\n",
    "    W_xc, W_hc, b_c, W_xi, W_hi, b_i, W_xf, W_hf, b_f, W_xo, W_ho, b_o = self.params\n",
    "    o = []\n",
    "    ##############################################################################\n",
    "    # TODO: Implement the forward pass of the LSTM.\n",
    "    ##############################################################################\n",
    "    # Replace \"pass\" statement with your code\n",
    "    pass\n",
    "    # END OF YOUR CODE\n",
    "\n",
    "    state = (h, c)\n",
    "    return o, state\n",
    "  \n",
    "  def forward(self, inputs, state):\n",
    "    return self.lstm(inputs, state)"
   ]
  },
  {
   "cell_type": "markdown",
   "metadata": {
    "id": "DPgyFycTFPKB"
   },
   "source": [
    "Check that your output has the correct shape. You should see:\n",
    "\n",
    "```\n",
    "torch.Size([12, 8, 5])\n",
    "torch.Size([12, 5])\n",
    "torch.Size([12, 5])\n",
    "```"
   ]
  },
  {
   "cell_type": "code",
   "execution_count": null,
   "metadata": {
    "id": "zHlJbYXsFPKC"
   },
   "outputs": [],
   "source": [
    "test_lstm = LSTM(10, 5, torch.device('cpu'))\n",
    "test_src = torch.ones(12, 8, 10)\n",
    "test_src_len = torch.ones(12) * 8\n",
    "test_h = torch.zeros(12, 5).float()\n",
    "test_c = torch.zeros(12, 5).float()\n",
    "\n",
    "test_o, test_state = test_lstm((test_src, test_src_len), (test_h, test_c))\n",
    "\n",
    "print(test_o.shape)\n",
    "print(test_state[0].shape)\n",
    "print(test_state[1].shape)\n"
   ]
  },
  {
   "cell_type": "markdown",
   "metadata": {
    "id": "Epm0XEhpFPKC"
   },
   "source": [
    "### Attention Mechanism"
   ]
  },
  {
   "cell_type": "markdown",
   "metadata": {
    "id": "Cz1IcWv0FPKD"
   },
   "source": [
    "Another improvement we can make to our model is the Attention Mechanism. An example illustrating why applying attention mechanisms can improve the performance is shown in the picture below. An English sentence and its Chinese is visualized and aligned into blue boxes and red boxes, respectively. It can be seen that the Chinese character '她' has a long distance from its English counterpart, 'she'. Since only the final hidden state is passed to the decoder, it's hard for the baseline model to 'attend' to information a long time ago."
   ]
  },
  {
   "cell_type": "markdown",
   "metadata": {
    "id": "JX-YAzgzFPKE"
   },
   "source": [
    "<div>\n",
    "<img src=\"https://lilianweng.github.io/lil-log/assets/images/encoder-decoder-example.png\" width=\"600\"/>\n",
    "</div>\n",
    "Image source: https://lilianweng.github.io/lil-log/assets/images/encoder-decoder-example.png"
   ]
  },
  {
   "cell_type": "markdown",
   "metadata": {
    "id": "wk5vQ9fGFPKE"
   },
   "source": [
    "- **Attention**\n",
    "\n",
    "    Given a query, $\\mathbf{q} \\in R^{d_q}$, and a set of $N$ (key, value) pairs, $\\{ \\mathbf{k}_i, \\mathbf{v}_i\\}^N$ where $k_i \\in R^{d_k}$ and $v_i \\in R^{d_v}$, the attention mechanism computes a weighted sum of values based on the normalized score obtained from the query and each key:\n",
    "    $$\n",
    "    \\begin{align*}\n",
    "    a_i &= \\alpha(\\mathbf{q}, \\mathbf{k_i}) \\\\\n",
    "    \\mathbf{a} &= [a_1, ..., a_n] \\\\\n",
    "    \\mathbf{b} &= \\text{softmax}(\\mathbf{a}) \\\\\n",
    "    \\mathbf{o} &= \\mathbf{b} \\cdot \\mathbf{V}\\text{, where } \\mathbf{V} = \\{\\mathbf{v}_i\\}^N\n",
    "    \\end{align*}\n",
    "    $$\n",
    "    The $\\alpha()$ function, which maps two vectors into a scalar, is the score function that can be chosen from a wide range of functions: e.g. the cosine function, dot-product function, scaled dot-product funtion and etc.\n"
   ]
  },
  {
   "cell_type": "markdown",
   "metadata": {
    "id": "5SvaotsZFPKE"
   },
   "source": [
    "- **Masked Softmax**\n",
    "\n",
    "For our machine translation task, the inputs and outputs may be of variable length (ie. each training example may have a different number of words). As shown above, we pad our inputs with a special `pad` token so that they all have the same length to make them easier to work with. However, when we take the softmax, we only want to include the non-`pad` items, so we need to write a special `masked_softmax` function to handle this. We can achieve the masking by setting masked elements to a large negative value. Then when we take the `exp`, those elements will be 0 and won't contribute to the softmax. We provide the implementation of this for you."
   ]
  },
  {
   "cell_type": "code",
   "execution_count": null,
   "metadata": {
    "id": "HMcgYib8FPKE"
   },
   "outputs": [],
   "source": [
    "def masked_softmax(X, valid_length):\n",
    "  \"\"\"\n",
    "  inputs:\n",
    "    X: 3-D tensor\n",
    "    valid_length: 1-D or 2-D tensor\n",
    "  \"\"\"\n",
    "  mask_value = -1e7 \n",
    "\n",
    "  if len(X.shape) == 2:\n",
    "    X = X.unsqueeze(1)\n",
    "\n",
    "  N, n, m = X.shape\n",
    "\n",
    "  if len(valid_length.shape) == 1:\n",
    "    valid_length = valid_length.repeat_interleave(n, dim=0)\n",
    "  else:\n",
    "    valid_length = valid_length.reshape((-1,))\n",
    "\n",
    "  mask = torch.arange(m)[None, :].to(X.device) >= valid_length[:, None]\n",
    "  X.view(-1, m)[mask] = mask_value\n",
    "\n",
    "  Y = torch.softmax(X, dim=-1)\n",
    "\n",
    "  \n",
    "  return Y"
   ]
  },
  {
   "cell_type": "code",
   "execution_count": null,
   "metadata": {
    "id": "AYLKdWCXFPKE"
   },
   "outputs": [],
   "source": [
    "masked_softmax(torch.rand(2, 2, 4), torch.tensor([2, 3]))"
   ]
  },
  {
   "cell_type": "markdown",
   "metadata": {
    "id": "1WORGFF5FPKF"
   },
   "source": [
    "- **Scaled Dot Product Attention**\n",
    "    - The scaled dot-product attention uses the score function as: $\\alpha(\\mathbf{q}, \\mathbf{k}) = \\mathbf{q} \\mathbf{k}^T / \\sqrt{d}$, where $d$ is the dimension of query (which in this case is equal to the dimension of the keys). The following figures visualizes this process in matrix form, in which $Q \\in \\mathcal{R}^{m\\times d_k}, \\mathbf{K} \\in \\mathcal{R}^{n \\times d_k}$, and $\\mathbf{V} \\in \\mathcal{R}^{n \\times d_v}$.\n",
    "\n",
    "    <div>\n",
    "    <img src=\"http://jalammar.github.io/images/t/self-attention-matrix-calculation-2.png\" width=\"600\"/>\n",
    "    </div>\n",
    "Image source: http://jalammar.github.io/images/t/self-attention-matrix-calculation-2.png\n",
    "\n",
    "Implement the DotProductAttention below. Do not use any loops in your implementation."
   ]
  },
  {
   "cell_type": "code",
   "execution_count": null,
   "metadata": {
    "deletable": false,
    "id": "JfOAos0nFPKF",
    "nbgrader": {
     "cell_type": "code",
     "checksum": "8b7a6c1703c6c230a006a6b86326a3b9",
     "grade": false,
     "grade_id": "cell-eac4fccbcd4f068e",
     "locked": false,
     "schema_version": 3,
     "solution": true,
     "task": false
    }
   },
   "outputs": [],
   "source": [
    "class DotProductAttention(nn.Module): \n",
    "  def __init__(self):\n",
    "      super(DotProductAttention, self).__init__()\n",
    "\n",
    "  def forward(self, query, key, value, valid_length=None):\n",
    "    \"\"\"\n",
    "    inputs:\n",
    "      query: tensor of size (B, n, d)\n",
    "      key: tensor of size (B, m, d)\n",
    "      value: tensor of size (B, m, dim_v)\n",
    "      valid_length: (B, )\n",
    "\n",
    "      B is the batch_size, n is the number of queries, m is the number of <key, value> pairs,\n",
    "      d is the feature dimension of the query, and dim_v is the feature dimension of the value.\n",
    "\n",
    "    Outputs:\n",
    "      attention: tensor of size (B, n, dim_v), weighted sum of values\n",
    "    \"\"\"\n",
    "    ##############################################################################\n",
    "    # TODO: Implement the forward pass of DotProductAttention. Do not\n",
    "    # use any loops in your implementation.\n",
    "    ##############################################################################\n",
    "    # Replace \"pass\" statement with your code\n",
    "    pass\n",
    "    # END OF YOUR CODE\n",
    "\n",
    "    return attention"
   ]
  },
  {
   "cell_type": "markdown",
   "metadata": {
    "id": "XIZLE7C8FPKF"
   },
   "source": [
    "### Correctness Check for DotProductAttention\n",
    "\n",
    "Run the following snippet to check your implementation of DotProductAttention.\n",
    "\n",
    "Expected output:\n",
    "\n",
    "```\n",
    "tensor([[[ 2.0000,  3.0000, 4.0000, 5.0000]],\n",
    "\n",
    "        [[10.0000, 11.0000, 12.0000, 13.0000]]])\n",
    "```\n"
   ]
  },
  {
   "cell_type": "code",
   "execution_count": null,
   "metadata": {
    "id": "Wv3mrVJ0FPKG"
   },
   "outputs": [],
   "source": [
    "att = DotProductAttention()\n",
    "keys = torch.ones((2,10,2),dtype=torch.float)\n",
    "values = torch.arange((40), dtype=torch.float).view(1,10,4).repeat(2,1,1)\n",
    "att(torch.ones((2,1,2),dtype=torch.float), keys, values, torch.FloatTensor([2, 6]))\n"
   ]
  },
  {
   "cell_type": "markdown",
   "metadata": {
    "id": "9DT_pDi5FPKG"
   },
   "source": [
    "- **MLP Attention**\n",
    "\n",
    "    In MLP attention, we project both query and keys into $R^h$, add the results, and use a $\\text{tanh}$ before multiplying by the values. The score function is defined as:\n",
    "    \n",
    "    $$\n",
    "    \\alpha(\\mathbf{q}, \\mathbf{k}) = \\mathbf{v}^T\\text{tanh}(W_k\\mathbf{k} + W_q\\mathbf{q})\n",
    "    $$\n",
    "    \n",
    "    where $\\mathbf{v}, \\mathbf{W_k}\\text{, and }\\mathbf{W_q}$ are learnable parameters.\n",
    "    \n",
    "Implement the MLP attention in matrix form without using any loops."
   ]
  },
  {
   "cell_type": "code",
   "execution_count": null,
   "metadata": {
    "deletable": false,
    "id": "2ur7xGGHFPKH",
    "nbgrader": {
     "cell_type": "code",
     "checksum": "9440f3519ad5f8037f192758aecca64a",
     "grade": false,
     "grade_id": "cell-6be727894d4fd817",
     "locked": false,
     "schema_version": 3,
     "solution": true,
     "task": false
    }
   },
   "outputs": [],
   "source": [
    "class MLPAttention(nn.Module):  \n",
    "  def __init__(self, d_v, d_k, d_q):\n",
    "    super(MLPAttention, self).__init__()\n",
    "    \"\"\"\n",
    "    Inputs:\n",
    "      d_k: feature dimension of key\n",
    "      d_v: feature dimension of vector v\n",
    "      d_q: feature dimension of query\n",
    "    \"\"\"\n",
    "    ##############################################################################\n",
    "    # TODO: Initialize learnable parameters\n",
    "    ##############################################################################\n",
    "    # Replace \"pass\" statement with your code\n",
    "    pass\n",
    "    # END OF YOUR CODE\n",
    "\n",
    "  def forward(self, query, key, value, valid_length):\n",
    "    \"\"\"\n",
    "    inputs:\n",
    "      query: tensor of size (B, n, d)\n",
    "      key: tensor of size (B, m, d)\n",
    "      value: tensor of size (B, m, dim_v)\n",
    "      valid_length: either (B, )\n",
    "\n",
    "      B is the batch_size, n is the number of queries, m is the number of <key, value> pairs,\n",
    "      d is the feature dimension of the query, and dim_v is the feature dimension of the value.\n",
    "\n",
    "    Outputs:\n",
    "      attention: tensor of size (B, n, dim_v), weighted sum of values\n",
    "    \"\"\"\n",
    "    ##############################################################################\n",
    "    # TODO: Implement the forward pass of MLPAttention. Do not\n",
    "    # use any loops in your implementation.\n",
    "    ##############################################################################\n",
    "    # Replace \"pass\" statement with your code\n",
    "    pass\n",
    "    # END OF YOUR CODE\n",
    "    return Y"
   ]
  },
  {
   "cell_type": "markdown",
   "metadata": {
    "id": "Lt2cl_zgFPKH"
   },
   "source": [
    "### Correctness Check for MLPAttention\n",
    "\n",
    "Run the following snippet to check your implementation of MLPAttention.\n",
    "\n",
    "Expected output:\n",
    "\n",
    "```\n",
    "tensor([[[ 2.0000,  3.0000,  4.0000,  5.0000],\n",
    "         [ 2.0000,  3.0000,  4.0000,  5.0000]],\n",
    "\n",
    "        [[10.0000, 11.0000, 12.0000, 13.0000],\n",
    "         [10.0000, 11.0000, 12.0000, 13.0000]]])\n",
    "```"
   ]
  },
  {
   "cell_type": "code",
   "execution_count": null,
   "metadata": {
    "id": "ZfT1SjdkFPKI"
   },
   "outputs": [],
   "source": [
    "atten = MLPAttention(4, 2, 2)\n",
    "atten(torch.ones((2,2,2),dtype=torch.float), keys, values, torch.FloatTensor([2, 6]))"
   ]
  },
  {
   "cell_type": "markdown",
   "metadata": {
    "id": "cmJHddOeFPKI"
   },
   "source": [
    "    \n",
    "- **Using Attention in seq2seq Models**\n",
    "\n",
    "    <div>\n",
    "    <img src=\"https://d2l.ai/_images/seq2seq-attention.svg\" width=\"600\"/>\n",
    "    </div>\n",
    "Image source: https://d2l.ai/_images/seq2seq-attention.svg\n",
    "\n",
    "    Now we want to add attention to the seq2seq model. As we previously stated, attention allows the decoder to have more direct access to previous states in the encoder. In the context of machine translation, when the decoder is predicting a word in the translation, it can focus on certain words in the original language. Therefore, we want the keys and the values of the attention layer to be the output of the encoder at each step. The query for the attention layer would be the decoder's previous hidden state. The output of the attention layer, referred to as the context, is concatenated with the decoder input and fed into the decoder.\n",
    "    \n",
    "    In rough pseudocode, this looks like:\n",
    "    ```\n",
    "    context = attention(query=h_prev, keys=encoder_output, values=encoder_output)\n",
    "    decoder_input = concatenate([decoder_input, context])\n",
    "    ```"
   ]
  },
  {
   "cell_type": "markdown",
   "metadata": {
    "id": "bl9vXv7EFPKI"
   },
   "source": [
    "### LSTM Encoder-Decoder\n",
    "\n",
    "\n",
    "Build a seq2seq model with LSTM and attention.\n",
    "\n",
    "- Complete the Encoder forward() function.\n",
    "- Complete the Decoder forward() and predict() functions. The decoder should utilize the attention mechanism.\n",
    "- Find a good learning rate for training this model. Feel free to add code here to test out different learning rates, but make sure that your best model is saved in `lstm_net`."
   ]
  },
  {
   "cell_type": "code",
   "execution_count": null,
   "metadata": {
    "deletable": false,
    "id": "pGBJB_klFPKJ",
    "nbgrader": {
     "cell_type": "code",
     "checksum": "fbd2ff0f838eab4eeb305bd07bbd3a8e",
     "grade": false,
     "grade_id": "cell-85d8bda82bc92dd8",
     "locked": false,
     "schema_version": 3,
     "solution": true,
     "task": false
    }
   },
   "outputs": [],
   "source": [
    "class Encoder(nn.Module):\n",
    "  def __init__(self, vocab_size, embedding_dim, hidden_size, device):\n",
    "    super(Encoder, self).__init__()\n",
    "    \"\"\"\n",
    "    inputs:\n",
    "      vocab_size: int, the number of words in the vocabulary\n",
    "      embedding_dim: int, dimension of the word embedding\n",
    "      hidden_size: int, dimension of vallina RNN\n",
    "    \"\"\"\n",
    "    self.embedding = nn.Embedding(vocab_size, embedding_dim)\n",
    "    self.enc = LSTM(embedding_dim, hidden_size, device)\n",
    "    self.hidden_size = hidden_size\n",
    "    \n",
    "  def forward(self, sources, valid_len):\n",
    "    ##############################################################################\n",
    "    # TODO: Implement LSTM Encoder forward pass\n",
    "    ##############################################################################\n",
    "    # Replace \"pass\" statement with your code\n",
    "    pass\n",
    "    # END OF YOUR CODE\n",
    "    return outputs, (h, c)"
   ]
  },
  {
   "cell_type": "code",
   "execution_count": null,
   "metadata": {
    "deletable": false,
    "id": "QruLtgx5FPKJ",
    "nbgrader": {
     "cell_type": "code",
     "checksum": "d8f15ad91df74611a4f70744a202ad53",
     "grade": false,
     "grade_id": "cell-154ce877082ed913",
     "locked": false,
     "schema_version": 3,
     "solution": true,
     "task": false
    }
   },
   "outputs": [],
   "source": [
    "class Decoder(nn.Module):\n",
    "  def __init__(self, vocab_size, embedding_dim, hidden_size, device):\n",
    "    super(Decoder, self).__init__()\n",
    "    \"\"\"\n",
    "    inputs:\n",
    "      vocab_size: int, the number of words in the vocabulary\n",
    "      embedding_dim: int, dimension of the word embedding\n",
    "      hidden_size: int, dimension of vallina RNN\n",
    "    \"\"\"\n",
    "    \n",
    "    self.embedding = nn.Embedding(vocab_size, embedding_dim)\n",
    "    self.enc = LSTM(embedding_dim+hidden_size, hidden_size, device)\n",
    "    self.att = DotProductAttention()\n",
    "    self.output_emb = nn.Linear(hidden_size, vocab_size)\n",
    "    self.hidden_size = hidden_size\n",
    "    \n",
    "  def forward(self, state, target, valid_len):\n",
    "    loss = 0\n",
    "    preds = []\n",
    "    \n",
    "    ##############################################################################\n",
    "    # TODO: Implement LSTM Decoder forward pass. Your solution should also use\n",
    "    # self.att for attention.\n",
    "    ##############################################################################\n",
    "    # Replace \"pass\" statement with your code    \n",
    "    pass\n",
    "    # END OF YOUR CODE\n",
    "    return loss, preds\n",
    "  \n",
    "  def predict(self, state, target, valid_len):\n",
    "    pred = None\n",
    "    ##############################################################################\n",
    "    # TODO: Implement LSTM Encoder prediction. Your solution should also use\n",
    "    # self.att for attention.\n",
    "    ##############################################################################\n",
    "    # Replace \"pass\" statement with your code    \n",
    "    pass\n",
    "    # END OF YOUR CODE\n",
    "    return pred\n",
    "\n",
    "    "
   ]
  },
  {
   "cell_type": "code",
   "execution_count": null,
   "metadata": {
    "id": "PHD8WWgiFPKJ"
   },
   "outputs": [],
   "source": [
    "class NMTLSTM(nn.Module):\n",
    "  def __init__(self, src_vocab_size, tgt_vocab_size, embedding_dim, hidden_size, device):\n",
    "    super(NMTLSTM, self).__init__()\n",
    "    self.enc = Encoder(src_vocab_size, embedding_dim, hidden_size, device)\n",
    "    self.dec = Decoder(tgt_vocab_size, embedding_dim, hidden_size, device)\n",
    "    \n",
    "  def forward(self, src, src_len, tgt, tgt_len):\n",
    "    outputs, (h, c) = self.enc(src, src_len)\n",
    "    loss, pred = self.dec((outputs, (h, c), src_len), tgt, tgt_len)\n",
    "    return loss, pred\n",
    "  \n",
    "  def predict(self, src, src_len, tgt, tgt_len):\n",
    "    outputs, (h, c) = self.enc(src, src_len)\n",
    "    pred = self.dec.predict((outputs, (h, c), src_len), tgt, tgt_len)\n",
    "    return pred\n"
   ]
  },
  {
   "cell_type": "code",
   "execution_count": null,
   "metadata": {
    "deletable": false,
    "id": "_935PwXWFPKK",
    "nbgrader": {
     "cell_type": "code",
     "checksum": "73bc6101f369326d21d0efe8439c652b",
     "grade": false,
     "grade_id": "cell-bfaaa623c7199b2d",
     "locked": false,
     "schema_version": 3,
     "solution": true,
     "task": false
    }
   },
   "outputs": [],
   "source": [
    "def train_lstm(net, train_iter, lr, epochs, device):\n",
    "  # training\n",
    "  net = net.to(device)\n",
    "\n",
    "  optimizer = torch.optim.Adam(net.parameters(), lr=lr)\n",
    "  loss_list = []\n",
    "  print_interval = len(train_iter)\n",
    "  total_iter = epochs * len(train_iter)\n",
    "  for e in range(epochs):\n",
    "    net.train()\n",
    "    for i, train_data in enumerate(train_iter):\n",
    "      train_data = [ds.to(device) for ds in train_data]\n",
    "\n",
    "      loss, pred = net(*train_data)\n",
    "\n",
    "      loss_list.append(loss.mean().detach())\n",
    "      optimizer.zero_grad()\n",
    "      loss.mean().backward()\n",
    "      optimizer.step()\n",
    "\n",
    "      step = i + e * len(train_iter)\n",
    "      if step % print_interval == 0:\n",
    "        print('iter {} / {}\\tLoss:\\t{:.6f}'.format(step, total_iter, loss.mean().detach()))\n",
    "        print('pred:\\t {}\\n'.format(pred[0].detach().cpu()))\n",
    "        print('tgt:\\t {}\\n'.format(train_data[2][0][1:].cpu()))\n",
    "  return loss_list\n",
    "\n",
    "seed(1)\n",
    "batch_size = 32\n",
    "lr = None\n",
    "##############################################################################\n",
    "# TODO: Find a good learning rate to train this model. Make sure your best\n",
    "# model is saved to the `lstm_net` variable.\n",
    "##############################################################################\n",
    "# Replace \"pass\" statement with your code\n",
    "pass\n",
    "# END OF YOUR CODE\n",
    "epochs = 50\n",
    "\n",
    "embedding_dim = 250\n",
    "hidden_size = 128\n",
    "\n",
    "vocab_eng, vocab_fra, train_iter = load_data_nmt(batch_size)\n",
    "lstm_net = NMTLSTM(vocab_eng.num_word, vocab_fra.num_word, embedding_dim, hidden_size, device)\n",
    "\n",
    "lstm_loss_list = train_lstm(lstm_net, train_iter, lr, epochs, device)"
   ]
  },
  {
   "cell_type": "markdown",
   "metadata": {
    "id": "HQSbkq_aFPKK"
   },
   "source": [
    "### LSTM Loss Curve\n",
    "\n",
    "Plot the loss curve over time."
   ]
  },
  {
   "cell_type": "code",
   "execution_count": null,
   "metadata": {
    "id": "UMekDZEtFPKK"
   },
   "outputs": [],
   "source": [
    "if device != \"cpu\":\n",
    "    lstm_loss_list_cpu = [ele.cpu() for ele in lstm_loss_list]\n",
    "else:\n",
    "    lstm_loss_list_cpu = lstm_loss_list\n",
    "plt.plot(np.arange(len(lstm_loss_list_cpu)), lstm_loss_list_cpu)\n",
    "plt.title('Loss Curve of LSTM Attention')"
   ]
  },
  {
   "cell_type": "markdown",
   "metadata": {
    "id": "vmBwQqm3FPKK"
   },
   "source": [
    "Test the accuracy of your model. You should be able to get at least 80% accuracy."
   ]
  },
  {
   "cell_type": "code",
   "execution_count": null,
   "metadata": {
    "id": "ab1KNBxiFPKL"
   },
   "outputs": [],
   "source": [
    "def comp_acc(pred, gt, valid_len):\n",
    "  N, T_gt = gt.shape[:2]\n",
    "  _, T_pr = pred.shape[:2]\n",
    "  assert T_gt == T_pr, 'Prediction and target should have the same length.'\n",
    "  len_mask = torch.arange(T_gt).expand(N, T_gt)\n",
    "  len_mask = len_mask < valid_len[:, None]\n",
    "  \n",
    "  pred_crr = (pred == gt).float() * len_mask.float() # filter out the 'bos' token\n",
    "  pred_acc = pred_crr.sum(dim=-1) / (valid_len - 1).float() # minus the 'bos' token\n",
    "  return pred_acc\n",
    "  \n",
    "def evaluate_lstm(net, train_iter, device):\n",
    "  acc_list = []\n",
    "  for i, train_data in enumerate(train_iter):\n",
    "    train_data = [ds.to(device) for ds in train_data]\n",
    "\n",
    "    pred = net.predict(*train_data)\n",
    "\n",
    "    pred_acc = comp_acc(pred.detach().cpu(), train_data[2].detach().cpu()[:, 1:], train_data[3].cpu())\n",
    "    acc_list.append(pred_acc)\n",
    "    if i < 5:# print 5 samples from 5 batches\n",
    "      pred = pred[0].detach().cpu()\n",
    "      pred_seq = []\n",
    "      for t in range(MAX_LEN+1):\n",
    "        pred_wd = vocab_fra.index2word[pred[t].item()] \n",
    "        if pred_wd != 'eos':\n",
    "          pred_seq.append(pred_wd)\n",
    "\n",
    "      print('pred:\\t {}\\n'.format(pred_seq))\n",
    "      print('tgt:\\t {}\\n'.format([vocab_fra.index2word[t.item()] for t in train_data[2][0][1:].cpu()]))\n",
    "\n",
    "  print('Prediction Acc.: {:.4f}'.format(torch.cat(acc_list).mean()))\n",
    "  \n",
    "seed(1)\n",
    "batch_size = 32\n",
    "\n",
    "vocab_eng, vocab_fra, train_iter = load_data_nmt(batch_size)\n",
    "evaluate_lstm(lstm_net, train_iter, device)"
   ]
  },
  {
   "cell_type": "markdown",
   "metadata": {
    "id": "YoN_xDrSFPKL"
   },
   "source": [
    "## Transformers\n",
    "\n",
    "Recurrent Neural Networks can capture long-range, variable-length sequential information, but updating the current state relies on the previous states. Thus it cannot be parallelized across the entire sequence. In contrast, CNNs are easy to parallelize but they cannot capture sequential dependency within variable-length sequences and their receptive field is limited. Transformers resolve this dilemna by being able to capture long-range dependencies while also being easy to parallelize.\n",
    "\n",
    "Transformers consist of several different components and we will walk you through each of them. The original paper can be found [here](https://arxiv.org/pdf/1706.03762.pdf). [Here](http://jalammar.github.io/illustrated-transformer/) is a very informative blog about transformers that should also be a good reference."
   ]
  },
  {
   "cell_type": "markdown",
   "metadata": {
    "id": "HmK1cu2vFPKL"
   },
   "source": [
    "**Multi-Head Self-Attention**\n",
    "\n",
    "Multi-head self-attention is an extension of the dot-product attention we've previously implemented. The \"self-attention\" part means that the query, key, and value all come from the same sequence. For a sentence, this means that we are looking at how each word pays attention to other words in the same sentence. The \"multi-head\" part means instead of only having one attention map, we can have multiple. This means that for a given word in the sentence, it can pay attention to different parts of the sentence.\n",
    "\n",
    "The steps in the multi-head attention can be summarzied by the following steps:"
   ]
  },
  {
   "cell_type": "markdown",
   "metadata": {
    "id": "ktnP21X2FPKL"
   },
   "source": [
    "   1. The multi-head self-attention takes the initial query $Q$, key $K$, and value $V$ as input. Note that, if not provided specifically, usually these are set to the same input embeddings $X=Q=K=V$ initially.\n",
    "   \n",
    "   1. Then, a linear projection is applied to $Q,K,V$ sepearately for each head $i=1,\\dots,h$. \n",
    "      $$\n",
    "   Q_i = QW^{Q}_i, K_i = KW^{K}_i, V_i = VW^{V}_i, i \\in [0, \\dots, h-1],\n",
    "   $$\n",
    "   \n",
    "   where $W^Q_i \\in \\mathcal{R}^{d_{model} \\times d_k}, W^K_i \\in \\mathcal{R}^{d_{model} \\times d_k}\\text{, and } W^V_i \\in \\mathcal{R}^{d_{model} \\times d_v}$.\n",
    "     \n",
    "   1. Apply the scaled dot-product attention to each of these projected set of queries, keys, and values:\n",
    "   $$\n",
    "   \\text{head}_i = \\text{Attention}(Q_i, K_i, V_i) = \\text{softmax}(\\frac{Q_iK^T_i}{\\sqrt{d_k}})V_i\n",
    "   $$\n",
    "   \n",
    "   1. Concatenate all the heads together and project it with another learned linear projections: \n",
    "   \n",
    "   $$\n",
    "   \\text{O} = \\text{Concate(head}_1, \\dots, \\text{head}_h) \\\\\n",
    "   \\text{MultiHead}(Q, K, V) = \\text{O}W^o, \\hspace{10mm} \\text{where } W^o \\in \\mathcal{R}^{{hd_v} \\times d_{model}}\n",
    "   $$"
   ]
  },
  {
   "cell_type": "markdown",
   "metadata": {
    "id": "7keposqeFPKM"
   },
   "source": [
    "A good visualization from the above referenced [blog](http://jalammar.github.io/illustrated-transformer/) is shown below. Transformer stacks several multi-head attention modules together. For the first multi-head layer, the input is from the dataset, so an additional embedding layer is needed to project the input sequence into the appropriate dimensions. For subsequent layers, the output from the layer previous layer is directly used as input."
   ]
  },
  {
   "cell_type": "markdown",
   "metadata": {
    "id": "1kn4Yjl6FPKM"
   },
   "source": [
    "<div>\n",
    "    <img src=\"http://jalammar.github.io/images/t/transformer_multi-headed_self-attention-recap.png\" width=\"600\"/>\n",
    "</div>\n",
    "\n",
    "Image source: http://jalammar.github.io/images/t/transformer_multi-headed_self-attention-recap.png"
   ]
  },
  {
   "cell_type": "markdown",
   "metadata": {
    "id": "mrBO8qaRFPKM"
   },
   "source": [
    "Implement the MultiHeadAttention class below:\n",
    " - Complete the __init__() function, where the linear mappings for query, key, values, and output should be created.\n",
    " - Complete the forward() function, where the multi-head attention is performed."
   ]
  },
  {
   "cell_type": "code",
   "execution_count": null,
   "metadata": {
    "deletable": false,
    "id": "8oOFoYPbFPKM",
    "nbgrader": {
     "cell_type": "code",
     "checksum": "ffb0d0e9e2f0f149afde973ef62dc33f",
     "grade": false,
     "grade_id": "cell-41f2921301bf3992",
     "locked": false,
     "schema_version": 3,
     "solution": true,
     "task": false
    }
   },
   "outputs": [],
   "source": [
    "class MultiHeadAttention(nn.Module):\n",
    "  def __init__(self, d_model, dk, num_heads,  **kwargs):\n",
    "    super(MultiHeadAttention, self).__init__()\n",
    "    \"\"\"\n",
    "    Inputs:\n",
    "      d_model: int, the same d_model in paper, feature dimension of query/key/values\n",
    "      d_k: int, feature projected dimension of query/key/value, we follow the setting in the paper, where d_v=d_k=d_q\n",
    "      num_heads: int, number of heads used for this MultiHeadAttention\n",
    "    \"\"\"\n",
    "    self.num_heads = num_heads\n",
    "    self.attention = DotProductAttention()\n",
    "    ##############################################################################\n",
    "    # TODO: Initialize the linear mappings for the query, key, and values.\n",
    "    # Also initialize the weight matrix for the output.\n",
    "    ##############################################################################\n",
    "    # Replace \"pass\" statement with your code\n",
    "    pass\n",
    "    # END OF YOUR CODE\n",
    "\n",
    "  def forward(self, query, key, value, valid_length):\n",
    "    \"\"\"\n",
    "    inputs:\n",
    "      query: tensor of size (B, T, d_model)\n",
    "      key: tensor of size (B, T, d_model)\n",
    "      value: tensor of size (B, T, d_model)\n",
    "      valid_length: (B, )\n",
    "\n",
    "      B is the batch_size, T is length of sequence, d_model is the feature dimensions of query,\n",
    "      key, and value.\n",
    "\n",
    "    Outputs:\n",
    "      attention (B, T, d_model)\n",
    "      \"\"\"\n",
    "    ##############################################################################\n",
    "    # TODO: Implement the forward pass of MultiHeadAttention.\n",
    "    ##############################################################################\n",
    "    # Replace \"pass\" statement with your code\n",
    "    pass\n",
    "    # END OF YOUR CODE\n",
    "\n",
    "    return attention"
   ]
  },
  {
   "cell_type": "code",
   "execution_count": null,
   "metadata": {
    "id": "XepbDzptFPKN"
   },
   "outputs": [],
   "source": [
    "cell = MultiHeadAttention(5, 90, 9)\n",
    "X = torch.ones((2, 4, 5))\n",
    "valid_len = torch.tensor([2, 3])\n",
    "cell(X, X, X, valid_len).shape"
   ]
  },
  {
   "cell_type": "markdown",
   "metadata": {
    "id": "HEWFEEwEFPKN"
   },
   "source": [
    "### Position-wise Feed-Forward Network\n",
    "\n",
    "Another key component in the Transformer block is the position-wise feed-forward network (FFN). It's called position-wise FFN because the linear mapping is applied to each position separately and identically. For example, for an embedded input of size $N \\times T \\times D_{in}$, there are $N*T$ vectors of dimension $D_{in}$. If we apply a one layer position-wise FFN with weights of size $D_{in} \\times D_{out}$. The linear projection will be applied to each of the $N*T$ vectors separately and identically. Thus, the output would have size $N \\times T \\times D_{out}$. Another way to think about this is that this is the same as a 1x1 convolution mapping from $D_{in}$ channels to $D_{out}$ channels.\n",
    "\n",
    "Transformers stack two layers of position-wise FFN together, with a ReLU activation in between:\n",
    "\n",
    "$$\n",
    "\\text{PositionWiseFFN}(x) = \\text{max}(0, xW_1 + b_1)W_2 + b_2\n",
    "$$\n",
    "\n",
    "Complete the class PositionWiseFFN:\n",
    "\n",
    "- Complete the __init__() function, where two position-wise FFN should be created.\n",
    "- Complete the forward() function."
   ]
  },
  {
   "cell_type": "code",
   "execution_count": null,
   "metadata": {
    "deletable": false,
    "id": "MS3Ruu13FPKN",
    "nbgrader": {
     "cell_type": "code",
     "checksum": "144103b4a6258c267c6a327e33851042",
     "grade": false,
     "grade_id": "cell-39ca6d33ccf1a8f5",
     "locked": false,
     "schema_version": 3,
     "solution": true,
     "task": false
    }
   },
   "outputs": [],
   "source": [
    "class PositionWiseFFN(nn.Module):\n",
    "  def __init__(self, input_size, ffn_l1_size, ffn_l2_size):\n",
    "    super(PositionWiseFFN, self).__init__()\n",
    "    \"\"\"\n",
    "    Inputs:\n",
    "      input_size: int, feature dimension of the input\n",
    "      fnn_l1_size: int, feature dimension of the output after the first position-wise FFN.\n",
    "      fnn_l2_size: int, feature dimension of the output after the second position-wise FFN.\n",
    "    \"\"\"\n",
    "    ##############################################################################\n",
    "    # TODO: Initialize the feed forward network for PositionWiseFFN\n",
    "    ##############################################################################\n",
    "    # Replace \"pass\" statement with your code\n",
    "    pass\n",
    "    # END OF YOUR CODE\n",
    "\n",
    "  def forward(self, X):\n",
    "    \"\"\"\n",
    "    Input:\n",
    "      X: tensor of size (N, T, D_in)\n",
    "    Output:\n",
    "      o: tensor of size (N, T, D_out)\n",
    "    \"\"\"\n",
    "    o = None\n",
    "    ##############################################################################\n",
    "    # TODO: Implement forward pass of PositionWiseFFN\n",
    "    ##############################################################################\n",
    "    # Replace \"pass\" statement with your code\n",
    "    pass\n",
    "    # END OF YOUR CODE\n",
    "    return o\n",
    "\n"
   ]
  },
  {
   "cell_type": "markdown",
   "metadata": {
    "id": "QgePpzNFFPKO"
   },
   "source": [
    "Check your result. Expected output\n",
    "\n",
    "```\n",
    "[[ 0.1609,  0.0371,  0.4916,  0.1781,  0.2010,  0.0161,  0.0869, -0.1879],\n",
    "        [ 0.1609,  0.0371,  0.4916,  0.1781,  0.2010,  0.0161,  0.0869, -0.1879],\n",
    "        [ 0.1609,  0.0371,  0.4916,  0.1781,  0.2010,  0.0161,  0.0869, -0.1879]]\n",
    "```"
   ]
  },
  {
   "cell_type": "code",
   "execution_count": null,
   "metadata": {
    "id": "7PNTreRXFPKP"
   },
   "outputs": [],
   "source": [
    "seed(1)\n",
    "ffn = PositionWiseFFN(4, 4, 8)\n",
    "ffn(torch.ones((2, 3, 4)))[0]"
   ]
  },
  {
   "cell_type": "markdown",
   "metadata": {
    "id": "IwNTph3BFPKP"
   },
   "source": [
    "### Positional Encoding\n",
    "\n",
    "Replacing RNNs with the multi-head attention layer and applying the position-wise feed-forward network makes the computation parallelizable since these modules compute the output of each item in the sequence independently. However, since every item is processed in parallel, there is no notion of ordering of the sequence. For an input sentence, this means that the transformer doesn't know the ordering of the words in the sentence. For most tasks, this ordering is very important. To address this, transformers propose adding a positional encoding to each input that corresponds to the position in the sequence. This means that we take the position of each word in the sentence (eg. 0, 1, 2, etc...) and map it to some $d_{model}$-dimensional embedding. We then add this embedding with every input item so that the input is not position-aware. Transformers use the following sinusoidal positional encoding:\n",
    "\n",
    "$$\n",
    "\\begin{align*}\n",
    "PE_{(pos, 2i)} &= sin(pos / 10000^{2i/d_{model}}) \\\\\n",
    "PE_{(pos, 2i+1)} &= cos(pos / 10000^{2i/d_{model}}) \n",
    "\\end{align*}\n",
    "$$\n",
    "\n",
    "An example borrowed from this [blog](https://kazemnejad.com/blog/transformer_architecture_positional_encoding/) can give an ituition how this positional encoding works. Suppose you want to encode the number from $0$ to $8$ using binary encoding, the result would like this:\n",
    "$$\n",
    "\\begin{align*}\n",
    "0: && 0  0  0 \\\\\n",
    "1: && 0  0  1 \\\\\n",
    "2: && 0  1  0 \\\\\n",
    "3: && 0  1  1 \\\\\n",
    "4: && 1  0  0 \\\\\n",
    "5: && 1  0  1 \\\\\n",
    "6: && 1  1  0 \\\\\n",
    "7: && 1  1  1 \\\\\n",
    "\\end{align*}\n",
    "$$\n",
    "Note the frequency of ones in each digit is different. Thus, words at different locations will have different embedding features (digits in the example). The figure below visualized a position encoding matrix of dimension $\\mathcal{R}^{50 \\times 128}$\n",
    "\n",
    "The forward pass of the positional encoding should add the positional embedding to the input:\n",
    "\n",
    "`y = x + positional_encoding(x)`"
   ]
  },
  {
   "cell_type": "markdown",
   "metadata": {
    "id": "vhdNRxqnFPKP"
   },
   "source": [
    "<div>\n",
    "    <img src=\"https://d33wubrfki0l68.cloudfront.net/ef81ee3018af6ab6f23769031f8961afcdd67c68/3358f/img/transformer_architecture_positional_encoding/positional_encoding.png\" width=\"600\"/>\n",
    "</div>\n",
    "\n",
    "Image source: https://d33wubrfki0l68.cloudfront.net/ef81ee3018af6ab6f23769031f8961afcdd67c68/3358f/img/transformer_architecture_positional_encoding/positional_encoding.png"
   ]
  },
  {
   "cell_type": "markdown",
   "metadata": {
    "id": "ECTqtni4FPKQ"
   },
   "source": [
    "Complete the class PositionalEncoding:\n",
    "- Complete the __init__() function, where the tensor $PE$ should be created.\n",
    "- Complete the forward() function."
   ]
  },
  {
   "cell_type": "code",
   "execution_count": null,
   "metadata": {
    "deletable": false,
    "id": "YtTr6b3QFPKQ",
    "nbgrader": {
     "cell_type": "code",
     "checksum": "6f724034b91387df0b62a10fb7268858",
     "grade": false,
     "grade_id": "cell-fc6933701b990269",
     "locked": false,
     "schema_version": 3,
     "solution": true,
     "task": false
    }
   },
   "outputs": [],
   "source": [
    "class PositionalEncoding(nn.Module):\n",
    "  def __init__(self, dim, device, max_len=1000):\n",
    "    super(PositionalEncoding, self).__init__()\n",
    "    \"\"\"\n",
    "    Inputs:\n",
    "      dim: feature dimension of the positional encoding\n",
    "    \"\"\"\n",
    "    ##############################################################################\n",
    "    # TODO: Initialize positional encoding. You should create `self.pe`\n",
    "    # here according to the definition above. The positional encoding should\n",
    "    # support up to position `max_len`.\n",
    "    ##############################################################################\n",
    "    # Replace \"pass\" statement with your code\n",
    "    pass\n",
    "    # END OF YOUR CODE\n",
    "\n",
    "\n",
    "  def forward(self, X):\n",
    "    \"\"\"\n",
    "    Inputs:\n",
    "      X: tensor of size (N, T, D_in)\n",
    "    Output:\n",
    "      Y: tensor of the same size of X\n",
    "    \"\"\"\n",
    "    Y = None\n",
    "    ##############################################################################\n",
    "    # TODO: Implement forward pass for positional encoding. After getting the positional\n",
    "    # encoding with regards to the time dimension, add it to the input X.\n",
    "    ##############################################################################\n",
    "    # Replace \"pass\" statement with your code\n",
    "    pass\n",
    "    # END OF YOUR CODE\n",
    "\n",
    "    return Y"
   ]
  },
  {
   "cell_type": "markdown",
   "metadata": {
    "id": "vmUgzqgxFPKQ"
   },
   "source": [
    "Check your result. Expected output\n",
    "\n",
    "```\n",
    "tensor([[1.0000, 2.0000, 1.0000, 2.0000, 1.0000, 2.0000, 1.0000, 2.0000, 1.0000,\n",
    "         2.0000],\n",
    "        [1.8415, 1.5403, 1.1578, 1.9875, 1.0251, 1.9997, 1.0040, 2.0000, 1.0006,\n",
    "         2.0000],\n",
    "        [1.9093, 0.5839, 1.3117, 1.9502, 1.0502, 1.9987, 1.0080, 2.0000, 1.0013,\n",
    "         2.0000],\n",
    "        [1.1411, 0.0100, 1.4578, 1.8891, 1.0753, 1.9972, 1.0119, 1.9999, 1.0019,\n",
    "         2.0000],\n",
    "        [0.2432, 0.3464, 1.5923, 1.8057, 1.1003, 1.9950, 1.0159, 1.9999, 1.0025,\n",
    "         2.0000]])\n",
    "```"
   ]
  },
  {
   "cell_type": "code",
   "execution_count": null,
   "metadata": {
    "id": "k76uE2IMFPKQ"
   },
   "outputs": [],
   "source": [
    "seed(1)\n",
    "pe = PositionalEncoding(10, device)\n",
    "pe(torch.ones((2, 5, 10), device=device))[0]"
   ]
  },
  {
   "cell_type": "markdown",
   "metadata": {
    "id": "zU2INK-oFPKQ"
   },
   "source": [
    "### Add and Norm\n",
    "\n",
    "Transformers use a residual connection followed by a layer normalization layer to connect the inputs and outputs of other layers. To be specific, an \"add and norm\" layer is appended after each multi-head attention layer and the position-wise FFN layer. *The code for AddNorm Layer is given as below.*"
   ]
  },
  {
   "cell_type": "code",
   "execution_count": null,
   "metadata": {
    "id": "GpaWYcXIFPKQ"
   },
   "outputs": [],
   "source": [
    "class AddNorm(nn.Module):\n",
    "    def __init__(self, dropout, embedding_size):\n",
    "        super(AddNorm, self).__init__()\n",
    "        self.dropout = nn.Dropout(dropout)\n",
    "        self.norm = nn.LayerNorm(embedding_size)\n",
    "\n",
    "    def forward(self, X, Y):\n",
    "        return self.norm(self.dropout(Y) + X)"
   ]
  },
  {
   "cell_type": "markdown",
   "metadata": {
    "id": "xzezqMGoFPKQ"
   },
   "source": [
    "### Encoder and Decoder\n",
    "\n",
    "The following figure gives a simple example of how the Transformer is built on these components introduced above. It's easy to see that the encoder of the Transformer consists of several identical encoder blocks, and so does the decoder."
   ]
  },
  {
   "cell_type": "markdown",
   "metadata": {
    "id": "FyL4sXFMFPKR"
   },
   "source": [
    "<div>\n",
    "<img src=\"http://jalammar.github.io/images/t/transformer_resideual_layer_norm_3.png\" width=\"600\"/>\n",
    "</div>\n",
    "\n",
    "Image source: http://jalammar.github.io/images/t/transformer_resideual_layer_norm_3.png"
   ]
  },
  {
   "cell_type": "markdown",
   "metadata": {
    "id": "qgnnUj26FPKR"
   },
   "source": [
    "Complete the forward() function for the EncoderBlock and DecoderBlock. Note that, for the decoder, when applying self-attention, the sequential queries **cannot** attend to those at later time steps. For example, in a sequence, the query entry at time step 5 can only observe the first 5 entries. You can use `valid_length` to enforce this.\n"
   ]
  },
  {
   "cell_type": "code",
   "execution_count": null,
   "metadata": {
    "deletable": false,
    "id": "pzSHqNVFFPKS",
    "nbgrader": {
     "cell_type": "code",
     "checksum": "a74c7336c9f0f3646b41cd064e1ebadf",
     "grade": false,
     "grade_id": "cell-544ed4c7777ee925",
     "locked": false,
     "schema_version": 3,
     "solution": true,
     "task": false
    }
   },
   "outputs": [],
   "source": [
    "class EncoderBlock(nn.Module):\n",
    "  def __init__(self, d_model, d_k, ffn_l1_size, ffn_l2_size, num_heads, dropout):\n",
    "    super(EncoderBlock, self).__init__()\n",
    "    \"\"\"\n",
    "    Inputs:\n",
    "      d_model: int, feature dimension of query/key/value\n",
    "      d_k: int, feature projected dimension of query/key/value, we follow the setting in the paper, where d_v=d_k=d_q\n",
    "      fnn_l1_size: int, feature dimension of the output after the first position-wise FFN.\n",
    "      fnn_l2_size: int, feature dimension of the output after the second position-wise FFN.\n",
    "      num_heads: int, number of head for multi-head attention layer.\n",
    "      dropout: dropout probability for dropout layer.\n",
    "      \n",
    "    \"\"\"\n",
    "    self.attention = MultiHeadAttention(d_model, d_k, num_heads)\n",
    "    self.addnorm_1 = AddNorm(dropout, d_model)\n",
    "    self.ffn = PositionWiseFFN(d_model, ffn_l1_size, ffn_l2_size)\n",
    "    self.addnorm_2 = AddNorm(dropout, d_model)\n",
    "\n",
    "  def forward(self, X, valid_length):\n",
    "    \"\"\"\n",
    "    Inputs:\n",
    "      X: tensor of size (N, T, D), embedded input sequences\n",
    "      valid_length: tensor of size (N), valid lengths for each sequence\n",
    "    \"\"\"\n",
    "    Y = None\n",
    "    ##############################################################################\n",
    "    # TODO: Implement forward pass for the EncoderBlock. Use the figure above\n",
    "    # for guidance:\n",
    "    # attention -> add+norm -> feed forward -> add+norm\n",
    "    ##############################################################################\n",
    "    # Replace \"pass\" statement with your code\n",
    "    pass\n",
    "    # END OF YOUR CODE\n",
    "\n",
    "    return Y"
   ]
  },
  {
   "cell_type": "code",
   "execution_count": null,
   "metadata": {
    "deletable": false,
    "id": "sVHRK0SmFPKS",
    "nbgrader": {
     "cell_type": "code",
     "checksum": "77dbfb80f87e8bc1beb98efaa7c01e61",
     "grade": false,
     "grade_id": "cell-8d2fafea68ccbc9f",
     "locked": false,
     "schema_version": 3,
     "solution": true,
     "task": false
    }
   },
   "outputs": [],
   "source": [
    "class DecoderBlock(nn.Module):\n",
    "  def __init__(self, d_model, d_k, ffn_l1_size, ffn_l2_size, num_heads,\n",
    "             dropout, **kwargs):\n",
    "    super(DecoderBlock, self).__init__()\n",
    "    \"\"\"\n",
    "    Inputs:\n",
    "      d_model: int, feature dimension of query/key/value\n",
    "      d_k: int, feature projected dimension of query/key/value, we follow the setting in the paper, where d_v=d_k=d_q\n",
    "      fnn_l1_size: int, feature dimension of the output after the first position-wise FFN.\n",
    "      fnn_l2_size: int, feature dimension of the output after the second position-wise FFN.\n",
    "      num_heads: int, number of head for multi-head attention layer.\n",
    "      dropout: dropout probability for dropout layer.\n",
    "      \n",
    "    \"\"\"\n",
    "    self.attention_1 = MultiHeadAttention(d_model, d_k, num_heads)\n",
    "    self.addnorm_1 = AddNorm(dropout, d_model)\n",
    "    self.attention_2 = MultiHeadAttention(d_model, d_model, num_heads)\n",
    "    self.addnorm_2 = AddNorm(dropout, d_model)\n",
    "    self.ffn = PositionWiseFFN(d_model, ffn_l1_size, ffn_l2_size)\n",
    "    self.addnorm_3 = AddNorm(dropout, d_model)\n",
    "\n",
    "  def forward(self, X, **kwargs):\n",
    "    \"\"\"\n",
    "    Inputs:\n",
    "      X: tensor of size (N, T, D), embedded input sequences\n",
    "      **kwargs: other arguments you think is necessary for implementation\n",
    "    Outputs:\n",
    "      Y: tensor of size (N, T, D_out)\n",
    "      \n",
    "      Feel free to output variables if necessary.\n",
    "    \"\"\"\n",
    "    Y = None\n",
    "    ##############################################################################\n",
    "    # TODO: Implement forward pass for the DecoderBlock. Use the figure above\n",
    "    # for guidance:\n",
    "    # self attention -> add+norm -> enc-dec attention -> add+norm -> feed forward -> add+norm\n",
    "    # for the first attention layer, make sure to construct a `valid_length` that\n",
    "    # ensures each element cannot attend to later elements in the sequence.\n",
    "    ##############################################################################\n",
    "    # Replace \"pass\" statement with your code\n",
    "    pass\n",
    "    # END OF YOUR CODE\n",
    "\n",
    "    return Y"
   ]
  },
  {
   "cell_type": "markdown",
   "metadata": {
    "id": "Sco9Z0_XFPKT"
   },
   "source": [
    "### Transformer  Implementation\n",
    "\n",
    "By stacking two encoder blocks and two decoder blocks, build the Transformer using the above components. \n",
    "\n",
    "- Implement the Encoder of Transformer:\n",
    " - Complete the __init__() function with a word embedding layer and several EncoderBlocks.\n",
    " - Complete the forward() function\n",
    "- Implement the Decoder of Transformer\n",
    " - Complete the __init__() function\n",
    " - Complete the forward() function\n",
    "- Implement the Transformer\n",
    " - Complete the forward() function\n",
    " - Complete the predict() function\n"
   ]
  },
  {
   "cell_type": "code",
   "execution_count": null,
   "metadata": {
    "deletable": false,
    "id": "jBq7fk-uFPKT",
    "nbgrader": {
     "cell_type": "code",
     "checksum": "ae68e2f2cb0af15282eeaa8ff420a15c",
     "grade": false,
     "grade_id": "cell-33857dd68f665a2b",
     "locked": false,
     "schema_version": 3,
     "solution": true,
     "task": false
    }
   },
   "outputs": [],
   "source": [
    "class TransformerEncoder(nn.Module):\n",
    "  def __init__(self, vocab_size, d_model, ffn_l1_size, ffn_l2_size,\n",
    "               num_heads, num_layers, dropout, device):\n",
    "    super(TransformerEncoder, self).__init__()\n",
    "    \"\"\"\n",
    "    Inputs:\n",
    "      d_model: int, feature dimension of query/key/value\n",
    "      fnn_l1_size: int, feature dimension of the output after the first position-wise FFN.\n",
    "      fnn_l2_size: int, feature dimension of the output after the second position-wise FFN.\n",
    "      num_heads: int, number of head for multi-head attention layer.\n",
    "      dropout: dropout probability for dropout layer.\n",
    "      num_layers: number of encoder blocks\n",
    "    \"\"\"\n",
    "    ##############################################################################\n",
    "    # TODO: Implement init() function for TransformerEncoder. See forward() notes\n",
    "    # for more details.\n",
    "    ##############################################################################\n",
    "    # Replace \"pass\" statement with your code\n",
    "    pass\n",
    "    # END OF YOUR CODE\n",
    "\n",
    "  def forward(self, X, valid_length):\n",
    "    ##############################################################################\n",
    "    # TODO: Implement forward pass for the TransformerEncoder\n",
    "    # First, use an embedding so each element in X is d_model (hint: use nn.Embedding)\n",
    "    # Then, apply the positional embedding to each element\n",
    "    # Lastly, pass the resulting input into num_layers of EncoderBlocks\n",
    "    ##############################################################################\n",
    "    # Replace \"pass\" statement with your code\n",
    "    pass\n",
    "    # END OF YOUR CODE\n",
    "\n",
    "    return X"
   ]
  },
  {
   "cell_type": "code",
   "execution_count": null,
   "metadata": {
    "deletable": false,
    "id": "AADZuNQrFPKU",
    "nbgrader": {
     "cell_type": "code",
     "checksum": "765b53867f3968948b51990b9c69f80f",
     "grade": false,
     "grade_id": "cell-eefed3b5de8d2f3d",
     "locked": false,
     "schema_version": 3,
     "solution": true,
     "task": false
    }
   },
   "outputs": [],
   "source": [
    "class TransformerDecoder(nn.Module):\n",
    "  def __init__(self, vocab_size, d_model, ffn_l1_size, ffn_l2_size,\n",
    "             num_heads, num_layers, dropout, device):\n",
    "    super(TransformerDecoder, self).__init__()\n",
    "    \"\"\"\n",
    "    Inputs:\n",
    "      d_model: int, feature dimension of query/key/value\n",
    "      fnn_l1_size: int, feature dimension of the output after the first position-wise FFN.\n",
    "      fnn_l2_size: int, feature dimension of the output after the second position-wise FFN.\n",
    "      num_heads: int, number of head for multi-head attention layer.\n",
    "      dropout: dropout probability for dropout layer.\n",
    "      num_layers: number of decoder blocks\n",
    "    \"\"\"\n",
    "    ##############################################################################\n",
    "    # TODO: Implement init() function for TransformerDecoder\n",
    "    ##############################################################################\n",
    "    # Replace \"pass\" statement with your code\n",
    "    pass\n",
    "    # END OF YOUR CODE\n",
    "\n",
    "\n",
    "  def forward(self, X, state):\n",
    "    \"\"\"\n",
    "    Inputs:\n",
    "      X: tensor of size (N, T, D), embedded input sequences\n",
    "      valid_length: tensor of size (N,), valid lengths for each sequence\n",
    "    \"\"\"\n",
    "    ##############################################################################\n",
    "    # TODO: Implement forward pass for the TransformerDecoder. This will look\n",
    "    # very similar to the TransformerEncoder.\n",
    "    ##############################################################################\n",
    "    # Replace \"pass\" statement with your code\n",
    "    pass\n",
    "    # END OF YOUR CODE\n",
    "    return self.dense(X), X"
   ]
  },
  {
   "cell_type": "code",
   "execution_count": null,
   "metadata": {
    "deletable": false,
    "id": "gCQ_p6ccFPKU",
    "nbgrader": {
     "cell_type": "code",
     "checksum": "68446581beb8f1b29dcb65023d32bcdf",
     "grade": false,
     "grade_id": "cell-1a06f1a890069bc5",
     "locked": false,
     "schema_version": 3,
     "solution": true,
     "task": false
    }
   },
   "outputs": [],
   "source": [
    "class Transformer(nn.Module):\n",
    "  \"\"\"The base class for the encoder-decoder architecture.\"\"\"\n",
    "  def __init__(self, encoder, decoder, **kwargs):\n",
    "    super(Transformer, self).__init__(**kwargs)\n",
    "    self.encoder = encoder\n",
    "    self.decoder = decoder\n",
    "\n",
    "  def forward(self, src_array, src_valid_len, tgt_array, tgt_valid_len):\n",
    "    \"\"\"Forward function\"\"\"\n",
    "    loss = 0\n",
    "    pred = None\n",
    "    ##############################################################################\n",
    "    # TODO: Implement forward pass of transformer\n",
    "    ##############################################################################\n",
    "    # Replace \"pass\" statement with your code\n",
    "    pass\n",
    "    # END OF YOUR CODE\n",
    "    return loss, pred\n",
    "        \n",
    "  def predict(self, src_array, src_valid_len, tgt_array, tgt_valid_len):\n",
    "    pred = None\n",
    "    ##############################################################################\n",
    "    # TODO: Implement predict() of transformer\n",
    "    ##############################################################################\n",
    "    # Replace \"pass\" statement with your code\n",
    "    pass\n",
    "    # END OF YOUR CODE\n",
    "    return pred\n",
    "\n"
   ]
  },
  {
   "cell_type": "markdown",
   "metadata": {
    "id": "cL-YquNmFPKU"
   },
   "source": [
    "Find a good learning rate for training this model. Feel free to tune other hyperparameters as well as long as your best model is saved in `transformer_net`."
   ]
  },
  {
   "cell_type": "code",
   "execution_count": null,
   "metadata": {
    "deletable": false,
    "id": "L-F6jPOkFPKV",
    "nbgrader": {
     "cell_type": "code",
     "checksum": "4caf1154ac2fe22f1709fdf9e258be88",
     "grade": false,
     "grade_id": "cell-535ea1c455d3fe85",
     "locked": false,
     "schema_version": 3,
     "solution": true,
     "task": false
    }
   },
   "outputs": [],
   "source": [
    "def train_transformer(net, train_iter, lr, epochs, device):\n",
    "  # training\n",
    "  net = net.to(device)\n",
    "\n",
    "  optimizer = torch.optim.Adam(net.parameters(), lr=lr)\n",
    "  loss_list = []\n",
    "  print_interval = len(train_iter)\n",
    "  total_iter = epochs * len(train_iter)\n",
    "  for e in range(epochs):\n",
    "    net.train()\n",
    "    for i, train_data in enumerate(train_iter):\n",
    "      train_data = [ds.to(device) for ds in train_data]\n",
    "\n",
    "      loss, pred = net(*train_data)\n",
    "\n",
    "      loss_list.append(loss.mean().detach())\n",
    "      optimizer.zero_grad()\n",
    "      loss.mean().backward()\n",
    "      optimizer.step()\n",
    "\n",
    "      step = i + e * len(train_iter)\n",
    "      if step % print_interval == 0:\n",
    "        print('iter {} / {}\\tLoss:\\t{:.6f}'.format(step, total_iter, loss.mean().detach()))\n",
    "        print('pred:\\t {}\\n'.format(pred[0].detach().cpu()))\n",
    "        print('tgt:\\t {}\\n'.format(train_data[2][0][1:].cpu()))\n",
    "  return loss_list\n",
    "\n",
    "\n",
    "# hyper-params: feel free to modify the values and numbers of hyper-params \n",
    "\n",
    "# training\n",
    "seed(1)\n",
    "batch_size = 32\n",
    "vocab_eng, vocab_fra, train_iter = load_data_nmt(batch_size)\n",
    "\n",
    "embedding_dim = 250\n",
    "hidden_size = 128\n",
    "\n",
    "#transformer hp\n",
    "# d_model = 512 # for GPU training\n",
    "d_model = 64 # for CPU training\n",
    "# ffn_l1_size = 2048 # for GPU training\n",
    "ffn_l1_size = 128 # for CPU training\n",
    "ffn_l2_size = d_model\n",
    "num_heads = 8\n",
    "num_layers = 6\n",
    "dropout = 0.1\n",
    "\n",
    "lr = None\n",
    "##############################################################################\n",
    "# TODO: Find a good learning rate to train this model. Make sure your best\n",
    "# model is saved to the `transformer_net` variable. Feel free to tune other hyperparameters\n",
    "# as well.\n",
    "##############################################################################\n",
    "# Replace \"pass\" statement with your code\n",
    "pass\n",
    "# END OF YOUR CODE\n",
    "epochs = 50\n",
    "\n",
    "encoder = TransformerEncoder(vocab_eng.num_word, d_model, ffn_l1_size, ffn_l2_size,\n",
    "                             num_heads, num_layers, dropout, device=device)\n",
    "decoder = TransformerDecoder(vocab_fra.num_word, d_model, ffn_l1_size, ffn_l2_size,\n",
    "                             num_heads, num_layers, dropout, device=device)\n",
    "transformer_net = Transformer(encoder, decoder)\n",
    "\n",
    "transformer_loss_list = train_transformer(transformer_net, train_iter, lr, epochs, device)"
   ]
  },
  {
   "cell_type": "code",
   "execution_count": null,
   "metadata": {
    "id": "MWT7PnWNFPKV"
   },
   "outputs": [],
   "source": [
    "if device != \"cpu\":\n",
    "    transformer_loss_list_cpu = [ele.cpu() for ele in transformer_loss_list]\n",
    "else:\n",
    "    transformer_loss_list_cpu = transformer_loss_list\n",
    "plt.plot(np.arange(len(transformer_loss_list_cpu)), transformer_loss_list_cpu)\n",
    "plt.title('Loss Curve of Transformer')"
   ]
  },
  {
   "cell_type": "markdown",
   "metadata": {
    "id": "3ZoUuny1FPKW"
   },
   "source": [
    "Test the accuracy of your model. You should be able to get at least 90% accuracy if you use GPU (with a larger hidden dimension) and at least 45% if you use CPU (with a smaller hidden dimension). "
   ]
  },
  {
   "cell_type": "code",
   "execution_count": null,
   "metadata": {
    "id": "vE366kKRFPKW"
   },
   "outputs": [],
   "source": [
    "def comp_acc(pred, gt, valid_len):\n",
    "  N, T_gt = gt.shape[:2]\n",
    "  _, T_pr = pred.shape[:2]\n",
    "  assert T_gt == T_pr, 'Prediction and target should have the same length.'\n",
    "  len_mask = torch.arange(T_gt).expand(N, T_gt)\n",
    "  len_mask = len_mask < valid_len[:, None]\n",
    "  \n",
    "  pred_crr = (pred == gt).float() * len_mask.float() # filter out the 'bos' token\n",
    "  pred_acc = pred_crr.sum(dim=-1) / (valid_len - 1).float() # minus the 'bos' token\n",
    "  return pred_acc\n",
    "  \n",
    "def evaluate_transformer(net, train_iter, device):\n",
    "  net.eval()\n",
    "  acc_list = []\n",
    "  for i, train_data in enumerate(train_iter):\n",
    "    train_data = [ds.to(device) for ds in train_data]\n",
    "\n",
    "    pred = net.predict(*train_data)\n",
    "\n",
    "    pred_acc = comp_acc(pred.detach().cpu(), train_data[2].detach().cpu()[:, 1:], train_data[3].cpu())\n",
    "    acc_list.append(pred_acc)\n",
    "    if i < 5:# print 5 samples from 5 batches\n",
    "      pred = pred[0].detach().cpu()\n",
    "      pred_seq = []\n",
    "      for t in range(MAX_LEN+1):\n",
    "        pred_wd = vocab_fra.index2word[pred[t].item()] \n",
    "        if pred_wd != 'eos':\n",
    "          pred_seq.append(pred_wd)\n",
    "\n",
    "      print('pred:\\t {}\\n'.format(pred_seq))\n",
    "      print('tgt:\\t {}\\n'.format([vocab_fra.index2word[t.item()] for t in train_data[2][0][1:].cpu()]))\n",
    "\n",
    "  print('Prediction Acc.: {:.4f}'.format(torch.cat(acc_list).mean()))\n",
    "  \n",
    "seed(1)\n",
    "batch_size = 32\n",
    "\n",
    "vocab_eng, vocab_fra, train_iter = load_data_nmt(batch_size)\n",
    "\n",
    "evaluate_transformer(transformer_net, train_iter, device)"
   ]
  },
  {
   "cell_type": "code",
   "execution_count": null,
   "metadata": {
    "id": "JNSk0hf4FPKW"
   },
   "outputs": [],
   "source": []
  }
 ],
 "metadata": {
  "colab": {
   "provenance": []
  },
  "kernelspec": {
   "display_name": "Python 3",
   "language": "python",
   "name": "python3"
  },
  "language_info": {
   "codemirror_mode": {
    "name": "ipython",
    "version": 3
   },
   "file_extension": ".py",
   "mimetype": "text/x-python",
   "name": "python",
   "nbconvert_exporter": "python",
   "pygments_lexer": "ipython3",
   "version": "3.6.12"
  }
 },
 "nbformat": 4,
 "nbformat_minor": 1
}
